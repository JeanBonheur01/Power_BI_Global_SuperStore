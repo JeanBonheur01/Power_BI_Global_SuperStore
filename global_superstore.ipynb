{
 "cells": [
  {
   "cell_type": "code",
   "execution_count": 1,
   "metadata": {},
   "outputs": [],
   "source": [
    "import pandas as pd\n",
    "from sklearn.preprocessing import LabelEncoder\n",
    "import os \n",
    "import matplotlib.pyplot as plt"
   ]
  },
  {
   "cell_type": "code",
   "execution_count": 2,
   "metadata": {},
   "outputs": [],
   "source": [
    "pwd = os.getcwd()"
   ]
  },
  {
   "cell_type": "code",
   "execution_count": 3,
   "metadata": {},
   "outputs": [
    {
     "data": {
      "text/html": [
       "<div>\n",
       "<style scoped>\n",
       "    .dataframe tbody tr th:only-of-type {\n",
       "        vertical-align: middle;\n",
       "    }\n",
       "\n",
       "    .dataframe tbody tr th {\n",
       "        vertical-align: top;\n",
       "    }\n",
       "\n",
       "    .dataframe thead th {\n",
       "        text-align: right;\n",
       "    }\n",
       "</style>\n",
       "<table border=\"1\" class=\"dataframe\">\n",
       "  <thead>\n",
       "    <tr style=\"text-align: right;\">\n",
       "      <th></th>\n",
       "      <th>Row ID</th>\n",
       "      <th>Order ID</th>\n",
       "      <th>Order Date</th>\n",
       "      <th>Ship Date</th>\n",
       "      <th>Ship Mode</th>\n",
       "      <th>Customer ID</th>\n",
       "      <th>Customer Name</th>\n",
       "      <th>Segment</th>\n",
       "      <th>Postal Code</th>\n",
       "      <th>City</th>\n",
       "      <th>...</th>\n",
       "      <th>Product ID</th>\n",
       "      <th>Category</th>\n",
       "      <th>Sub-Category</th>\n",
       "      <th>Product Name</th>\n",
       "      <th>Sales</th>\n",
       "      <th>Quantity</th>\n",
       "      <th>Discount</th>\n",
       "      <th>Profit</th>\n",
       "      <th>Shipping Cost</th>\n",
       "      <th>Order Priority</th>\n",
       "    </tr>\n",
       "  </thead>\n",
       "  <tbody>\n",
       "    <tr>\n",
       "      <th>0</th>\n",
       "      <td>40098</td>\n",
       "      <td>CA-2014-AB10015140-41954</td>\n",
       "      <td>2014-11-11</td>\n",
       "      <td>2014-11-13</td>\n",
       "      <td>First Class</td>\n",
       "      <td>AB-100151402</td>\n",
       "      <td>Aaron Bergman</td>\n",
       "      <td>Consumer</td>\n",
       "      <td>73120.0</td>\n",
       "      <td>Oklahoma City</td>\n",
       "      <td>...</td>\n",
       "      <td>TEC-PH-5816</td>\n",
       "      <td>Technology</td>\n",
       "      <td>Phones</td>\n",
       "      <td>Samsung Convoy 3</td>\n",
       "      <td>221.980</td>\n",
       "      <td>2</td>\n",
       "      <td>0.0</td>\n",
       "      <td>62.1544</td>\n",
       "      <td>40.770</td>\n",
       "      <td>High</td>\n",
       "    </tr>\n",
       "    <tr>\n",
       "      <th>1</th>\n",
       "      <td>26341</td>\n",
       "      <td>IN-2014-JR162107-41675</td>\n",
       "      <td>2014-02-05</td>\n",
       "      <td>2014-02-07</td>\n",
       "      <td>Second Class</td>\n",
       "      <td>JR-162107</td>\n",
       "      <td>Justin Ritter</td>\n",
       "      <td>Corporate</td>\n",
       "      <td>NaN</td>\n",
       "      <td>Wollongong</td>\n",
       "      <td>...</td>\n",
       "      <td>FUR-CH-5379</td>\n",
       "      <td>Furniture</td>\n",
       "      <td>Chairs</td>\n",
       "      <td>Novimex Executive Leather Armchair, Black</td>\n",
       "      <td>3709.395</td>\n",
       "      <td>9</td>\n",
       "      <td>0.1</td>\n",
       "      <td>-288.7650</td>\n",
       "      <td>923.630</td>\n",
       "      <td>Critical</td>\n",
       "    </tr>\n",
       "    <tr>\n",
       "      <th>2</th>\n",
       "      <td>25330</td>\n",
       "      <td>IN-2014-CR127307-41929</td>\n",
       "      <td>2014-10-17</td>\n",
       "      <td>2014-10-18</td>\n",
       "      <td>First Class</td>\n",
       "      <td>CR-127307</td>\n",
       "      <td>Craig Reiter</td>\n",
       "      <td>Consumer</td>\n",
       "      <td>NaN</td>\n",
       "      <td>Brisbane</td>\n",
       "      <td>...</td>\n",
       "      <td>TEC-PH-5356</td>\n",
       "      <td>Technology</td>\n",
       "      <td>Phones</td>\n",
       "      <td>Nokia Smart Phone, with Caller ID</td>\n",
       "      <td>5175.171</td>\n",
       "      <td>9</td>\n",
       "      <td>0.1</td>\n",
       "      <td>919.9710</td>\n",
       "      <td>915.490</td>\n",
       "      <td>Medium</td>\n",
       "    </tr>\n",
       "    <tr>\n",
       "      <th>3</th>\n",
       "      <td>13524</td>\n",
       "      <td>ES-2014-KM1637548-41667</td>\n",
       "      <td>2014-01-28</td>\n",
       "      <td>2014-01-30</td>\n",
       "      <td>First Class</td>\n",
       "      <td>KM-1637548</td>\n",
       "      <td>Katherine Murray</td>\n",
       "      <td>Home Office</td>\n",
       "      <td>NaN</td>\n",
       "      <td>Berlin</td>\n",
       "      <td>...</td>\n",
       "      <td>TEC-PH-5267</td>\n",
       "      <td>Technology</td>\n",
       "      <td>Phones</td>\n",
       "      <td>Motorola Smart Phone, Cordless</td>\n",
       "      <td>2892.510</td>\n",
       "      <td>5</td>\n",
       "      <td>0.1</td>\n",
       "      <td>-96.5400</td>\n",
       "      <td>910.160</td>\n",
       "      <td>Medium</td>\n",
       "    </tr>\n",
       "    <tr>\n",
       "      <th>4</th>\n",
       "      <td>47221</td>\n",
       "      <td>SG-2014-RH9495111-41948</td>\n",
       "      <td>2014-11-05</td>\n",
       "      <td>2014-11-06</td>\n",
       "      <td>Same Day</td>\n",
       "      <td>RH-9495111</td>\n",
       "      <td>Rick Hansen</td>\n",
       "      <td>Consumer</td>\n",
       "      <td>NaN</td>\n",
       "      <td>Dakar</td>\n",
       "      <td>...</td>\n",
       "      <td>TEC-CO-6011</td>\n",
       "      <td>Technology</td>\n",
       "      <td>Copiers</td>\n",
       "      <td>Sharp Wireless Fax, High-Speed</td>\n",
       "      <td>2832.960</td>\n",
       "      <td>8</td>\n",
       "      <td>0.0</td>\n",
       "      <td>311.5200</td>\n",
       "      <td>903.040</td>\n",
       "      <td>Critical</td>\n",
       "    </tr>\n",
       "    <tr>\n",
       "      <th>...</th>\n",
       "      <td>...</td>\n",
       "      <td>...</td>\n",
       "      <td>...</td>\n",
       "      <td>...</td>\n",
       "      <td>...</td>\n",
       "      <td>...</td>\n",
       "      <td>...</td>\n",
       "      <td>...</td>\n",
       "      <td>...</td>\n",
       "      <td>...</td>\n",
       "      <td>...</td>\n",
       "      <td>...</td>\n",
       "      <td>...</td>\n",
       "      <td>...</td>\n",
       "      <td>...</td>\n",
       "      <td>...</td>\n",
       "      <td>...</td>\n",
       "      <td>...</td>\n",
       "      <td>...</td>\n",
       "      <td>...</td>\n",
       "      <td>...</td>\n",
       "    </tr>\n",
       "    <tr>\n",
       "      <th>51285</th>\n",
       "      <td>29002</td>\n",
       "      <td>IN-2015-KE1642066-42174</td>\n",
       "      <td>2015-06-19</td>\n",
       "      <td>2015-06-19</td>\n",
       "      <td>Same Day</td>\n",
       "      <td>KE-1642066</td>\n",
       "      <td>Katrina Edelman</td>\n",
       "      <td>Corporate</td>\n",
       "      <td>NaN</td>\n",
       "      <td>Kure</td>\n",
       "      <td>...</td>\n",
       "      <td>OFF-FA-3072</td>\n",
       "      <td>Office Supplies</td>\n",
       "      <td>Fasteners</td>\n",
       "      <td>Advantus Thumb Tacks, 12 Pack</td>\n",
       "      <td>65.100</td>\n",
       "      <td>5</td>\n",
       "      <td>0.0</td>\n",
       "      <td>4.5000</td>\n",
       "      <td>1.010</td>\n",
       "      <td>Medium</td>\n",
       "    </tr>\n",
       "    <tr>\n",
       "      <th>51286</th>\n",
       "      <td>34337</td>\n",
       "      <td>US-2014-ZD21925140-41765</td>\n",
       "      <td>2014-05-06</td>\n",
       "      <td>2014-05-10</td>\n",
       "      <td>Standard Class</td>\n",
       "      <td>ZD-219251408</td>\n",
       "      <td>Zuschuss Donatelli</td>\n",
       "      <td>Consumer</td>\n",
       "      <td>37421.0</td>\n",
       "      <td>Chattanooga</td>\n",
       "      <td>...</td>\n",
       "      <td>FUR-FU-4070</td>\n",
       "      <td>Furniture</td>\n",
       "      <td>Furnishings</td>\n",
       "      <td>Eldon Image Series Desk Accessories, Burgundy</td>\n",
       "      <td>16.720</td>\n",
       "      <td>5</td>\n",
       "      <td>0.2</td>\n",
       "      <td>3.3440</td>\n",
       "      <td>1.930</td>\n",
       "      <td>High</td>\n",
       "    </tr>\n",
       "    <tr>\n",
       "      <th>51287</th>\n",
       "      <td>31315</td>\n",
       "      <td>CA-2012-ZD21925140-41147</td>\n",
       "      <td>2012-08-26</td>\n",
       "      <td>2012-08-31</td>\n",
       "      <td>Second Class</td>\n",
       "      <td>ZD-219251404</td>\n",
       "      <td>Zuschuss Donatelli</td>\n",
       "      <td>Consumer</td>\n",
       "      <td>94109.0</td>\n",
       "      <td>San Francisco</td>\n",
       "      <td>...</td>\n",
       "      <td>OFF-AR-5321</td>\n",
       "      <td>Office Supplies</td>\n",
       "      <td>Art</td>\n",
       "      <td>Newell 341</td>\n",
       "      <td>8.560</td>\n",
       "      <td>2</td>\n",
       "      <td>0.0</td>\n",
       "      <td>2.4824</td>\n",
       "      <td>1.580</td>\n",
       "      <td>High</td>\n",
       "    </tr>\n",
       "    <tr>\n",
       "      <th>51288</th>\n",
       "      <td>9596</td>\n",
       "      <td>MX-2013-RB1979518-41322</td>\n",
       "      <td>2013-02-17</td>\n",
       "      <td>2013-02-21</td>\n",
       "      <td>Standard Class</td>\n",
       "      <td>RB-1979518</td>\n",
       "      <td>Ross Baird</td>\n",
       "      <td>Home Office</td>\n",
       "      <td>NaN</td>\n",
       "      <td>Valinhos</td>\n",
       "      <td>...</td>\n",
       "      <td>OFF-BI-2919</td>\n",
       "      <td>Office Supplies</td>\n",
       "      <td>Binders</td>\n",
       "      <td>Acco Index Tab, Economy</td>\n",
       "      <td>13.440</td>\n",
       "      <td>2</td>\n",
       "      <td>0.0</td>\n",
       "      <td>2.4000</td>\n",
       "      <td>1.003</td>\n",
       "      <td>Medium</td>\n",
       "    </tr>\n",
       "    <tr>\n",
       "      <th>51289</th>\n",
       "      <td>6147</td>\n",
       "      <td>MX-2013-MC1810093-41416</td>\n",
       "      <td>2013-05-22</td>\n",
       "      <td>2013-05-26</td>\n",
       "      <td>Second Class</td>\n",
       "      <td>MC-1810093</td>\n",
       "      <td>Mick Crebagga</td>\n",
       "      <td>Consumer</td>\n",
       "      <td>NaN</td>\n",
       "      <td>Tipitapa</td>\n",
       "      <td>...</td>\n",
       "      <td>OFF-PA-3990</td>\n",
       "      <td>Office Supplies</td>\n",
       "      <td>Paper</td>\n",
       "      <td>Eaton Computer Printout Paper, 8.5 x 11</td>\n",
       "      <td>61.380</td>\n",
       "      <td>3</td>\n",
       "      <td>0.0</td>\n",
       "      <td>1.8000</td>\n",
       "      <td>1.002</td>\n",
       "      <td>High</td>\n",
       "    </tr>\n",
       "  </tbody>\n",
       "</table>\n",
       "<p>51290 rows × 24 columns</p>\n",
       "</div>"
      ],
      "text/plain": [
       "       Row ID                  Order ID Order Date  Ship Date       Ship Mode  \\\n",
       "0       40098  CA-2014-AB10015140-41954 2014-11-11 2014-11-13     First Class   \n",
       "1       26341    IN-2014-JR162107-41675 2014-02-05 2014-02-07    Second Class   \n",
       "2       25330    IN-2014-CR127307-41929 2014-10-17 2014-10-18     First Class   \n",
       "3       13524   ES-2014-KM1637548-41667 2014-01-28 2014-01-30     First Class   \n",
       "4       47221   SG-2014-RH9495111-41948 2014-11-05 2014-11-06        Same Day   \n",
       "...       ...                       ...        ...        ...             ...   \n",
       "51285   29002   IN-2015-KE1642066-42174 2015-06-19 2015-06-19        Same Day   \n",
       "51286   34337  US-2014-ZD21925140-41765 2014-05-06 2014-05-10  Standard Class   \n",
       "51287   31315  CA-2012-ZD21925140-41147 2012-08-26 2012-08-31    Second Class   \n",
       "51288    9596   MX-2013-RB1979518-41322 2013-02-17 2013-02-21  Standard Class   \n",
       "51289    6147   MX-2013-MC1810093-41416 2013-05-22 2013-05-26    Second Class   \n",
       "\n",
       "        Customer ID       Customer Name      Segment  Postal Code  \\\n",
       "0      AB-100151402       Aaron Bergman     Consumer      73120.0   \n",
       "1         JR-162107       Justin Ritter    Corporate          NaN   \n",
       "2         CR-127307        Craig Reiter     Consumer          NaN   \n",
       "3        KM-1637548    Katherine Murray  Home Office          NaN   \n",
       "4        RH-9495111         Rick Hansen     Consumer          NaN   \n",
       "...             ...                 ...          ...          ...   \n",
       "51285    KE-1642066     Katrina Edelman    Corporate          NaN   \n",
       "51286  ZD-219251408  Zuschuss Donatelli     Consumer      37421.0   \n",
       "51287  ZD-219251404  Zuschuss Donatelli     Consumer      94109.0   \n",
       "51288    RB-1979518          Ross Baird  Home Office          NaN   \n",
       "51289    MC-1810093       Mick Crebagga     Consumer          NaN   \n",
       "\n",
       "                City  ...   Product ID         Category Sub-Category  \\\n",
       "0      Oklahoma City  ...  TEC-PH-5816       Technology       Phones   \n",
       "1         Wollongong  ...  FUR-CH-5379        Furniture       Chairs   \n",
       "2           Brisbane  ...  TEC-PH-5356       Technology       Phones   \n",
       "3             Berlin  ...  TEC-PH-5267       Technology       Phones   \n",
       "4              Dakar  ...  TEC-CO-6011       Technology      Copiers   \n",
       "...              ...  ...          ...              ...          ...   \n",
       "51285           Kure  ...  OFF-FA-3072  Office Supplies    Fasteners   \n",
       "51286    Chattanooga  ...  FUR-FU-4070        Furniture  Furnishings   \n",
       "51287  San Francisco  ...  OFF-AR-5321  Office Supplies          Art   \n",
       "51288       Valinhos  ...  OFF-BI-2919  Office Supplies      Binders   \n",
       "51289       Tipitapa  ...  OFF-PA-3990  Office Supplies        Paper   \n",
       "\n",
       "                                        Product Name     Sales Quantity  \\\n",
       "0                                   Samsung Convoy 3   221.980        2   \n",
       "1          Novimex Executive Leather Armchair, Black  3709.395        9   \n",
       "2                  Nokia Smart Phone, with Caller ID  5175.171        9   \n",
       "3                     Motorola Smart Phone, Cordless  2892.510        5   \n",
       "4                     Sharp Wireless Fax, High-Speed  2832.960        8   \n",
       "...                                              ...       ...      ...   \n",
       "51285                  Advantus Thumb Tacks, 12 Pack    65.100        5   \n",
       "51286  Eldon Image Series Desk Accessories, Burgundy    16.720        5   \n",
       "51287                                     Newell 341     8.560        2   \n",
       "51288                        Acco Index Tab, Economy    13.440        2   \n",
       "51289        Eaton Computer Printout Paper, 8.5 x 11    61.380        3   \n",
       "\n",
       "      Discount    Profit  Shipping Cost  Order Priority  \n",
       "0          0.0   62.1544         40.770            High  \n",
       "1          0.1 -288.7650        923.630        Critical  \n",
       "2          0.1  919.9710        915.490          Medium  \n",
       "3          0.1  -96.5400        910.160          Medium  \n",
       "4          0.0  311.5200        903.040        Critical  \n",
       "...        ...       ...            ...             ...  \n",
       "51285      0.0    4.5000          1.010          Medium  \n",
       "51286      0.2    3.3440          1.930            High  \n",
       "51287      0.0    2.4824          1.580            High  \n",
       "51288      0.0    2.4000          1.003          Medium  \n",
       "51289      0.0    1.8000          1.002            High  \n",
       "\n",
       "[51290 rows x 24 columns]"
      ]
     },
     "execution_count": 3,
     "metadata": {},
     "output_type": "execute_result"
    }
   ],
   "source": [
    "df = pd.read_excel (pwd + \"/global_superstore_2016.xlsx\", sheet_name= \"Orders\")\n",
    "df"
   ]
  },
  {
   "cell_type": "code",
   "execution_count": 4,
   "metadata": {},
   "outputs": [
    {
     "data": {
      "text/plain": [
       "Row ID                     int64\n",
       "Order ID                  object\n",
       "Order Date        datetime64[ns]\n",
       "Ship Date         datetime64[ns]\n",
       "Ship Mode                 object\n",
       "Customer ID               object\n",
       "Customer Name             object\n",
       "Segment                   object\n",
       "Postal Code              float64\n",
       "City                      object\n",
       "State                     object\n",
       "Country                   object\n",
       "Region                    object\n",
       "Market                    object\n",
       "Product ID                object\n",
       "Category                  object\n",
       "Sub-Category              object\n",
       "Product Name              object\n",
       "Sales                    float64\n",
       "Quantity                   int64\n",
       "Discount                 float64\n",
       "Profit                   float64\n",
       "Shipping Cost            float64\n",
       "Order Priority            object\n",
       "dtype: object"
      ]
     },
     "execution_count": 4,
     "metadata": {},
     "output_type": "execute_result"
    }
   ],
   "source": [
    "df.dtypes\n"
   ]
  },
  {
   "cell_type": "code",
   "execution_count": 5,
   "metadata": {},
   "outputs": [
    {
     "data": {
      "text/plain": [
       "(51290, 24)"
      ]
     },
     "execution_count": 5,
     "metadata": {},
     "output_type": "execute_result"
    }
   ],
   "source": [
    "df.shape"
   ]
  },
  {
   "cell_type": "code",
   "execution_count": 6,
   "metadata": {},
   "outputs": [
    {
     "name": "stdout",
     "output_type": "stream",
     "text": [
      "Index(['Row ID', 'Order ID', 'Order Date', 'Ship Date', 'Ship Mode',\n",
      "       'Customer ID', 'Customer Name', 'Segment', 'Postal Code', 'City',\n",
      "       'State', 'Country', 'Region', 'Market', 'Product ID', 'Category',\n",
      "       'Sub-Category', 'Product Name', 'Sales', 'Quantity', 'Discount',\n",
      "       'Profit', 'Shipping Cost', 'Order Priority'],\n",
      "      dtype='object')\n"
     ]
    }
   ],
   "source": [
    "print (df.columns)"
   ]
  },
  {
   "cell_type": "code",
   "execution_count": 7,
   "metadata": {},
   "outputs": [],
   "source": [
    "df1=df"
   ]
  },
  {
   "cell_type": "markdown",
   "metadata": {},
   "source": [
    "### Q1: What is the total sales amount for all orders?"
   ]
  },
  {
   "cell_type": "code",
   "execution_count": 8,
   "metadata": {},
   "outputs": [
    {
     "data": {
      "text/plain": [
       "12642501.90988"
      ]
     },
     "execution_count": 8,
     "metadata": {},
     "output_type": "execute_result"
    }
   ],
   "source": [
    "df1[\"Sales\"].sum()"
   ]
  },
  {
   "cell_type": "markdown",
   "metadata": {},
   "source": [
    "### Q2: What is the total sales amount for each year? "
   ]
  },
  {
   "cell_type": "markdown",
   "metadata": {},
   "source": [
    "##### Step 1: Create a new column that shows the order year."
   ]
  },
  {
   "cell_type": "code",
   "execution_count": 9,
   "metadata": {},
   "outputs": [
    {
     "data": {
      "text/html": [
       "<div>\n",
       "<style scoped>\n",
       "    .dataframe tbody tr th:only-of-type {\n",
       "        vertical-align: middle;\n",
       "    }\n",
       "\n",
       "    .dataframe tbody tr th {\n",
       "        vertical-align: top;\n",
       "    }\n",
       "\n",
       "    .dataframe thead th {\n",
       "        text-align: right;\n",
       "    }\n",
       "</style>\n",
       "<table border=\"1\" class=\"dataframe\">\n",
       "  <thead>\n",
       "    <tr style=\"text-align: right;\">\n",
       "      <th></th>\n",
       "      <th>Row ID</th>\n",
       "      <th>Order ID</th>\n",
       "      <th>Order Date</th>\n",
       "      <th>Ship Date</th>\n",
       "      <th>Ship Mode</th>\n",
       "      <th>Customer ID</th>\n",
       "      <th>Customer Name</th>\n",
       "      <th>Segment</th>\n",
       "      <th>Postal Code</th>\n",
       "      <th>City</th>\n",
       "      <th>...</th>\n",
       "      <th>Category</th>\n",
       "      <th>Sub-Category</th>\n",
       "      <th>Product Name</th>\n",
       "      <th>Sales</th>\n",
       "      <th>Quantity</th>\n",
       "      <th>Discount</th>\n",
       "      <th>Profit</th>\n",
       "      <th>Shipping Cost</th>\n",
       "      <th>Order Priority</th>\n",
       "      <th>Year</th>\n",
       "    </tr>\n",
       "  </thead>\n",
       "  <tbody>\n",
       "    <tr>\n",
       "      <th>0</th>\n",
       "      <td>40098</td>\n",
       "      <td>CA-2014-AB10015140-41954</td>\n",
       "      <td>2014-11-11</td>\n",
       "      <td>2014-11-13</td>\n",
       "      <td>First Class</td>\n",
       "      <td>AB-100151402</td>\n",
       "      <td>Aaron Bergman</td>\n",
       "      <td>Consumer</td>\n",
       "      <td>73120.0</td>\n",
       "      <td>Oklahoma City</td>\n",
       "      <td>...</td>\n",
       "      <td>Technology</td>\n",
       "      <td>Phones</td>\n",
       "      <td>Samsung Convoy 3</td>\n",
       "      <td>221.980</td>\n",
       "      <td>2</td>\n",
       "      <td>0.0</td>\n",
       "      <td>62.1544</td>\n",
       "      <td>40.770</td>\n",
       "      <td>High</td>\n",
       "      <td>2014</td>\n",
       "    </tr>\n",
       "    <tr>\n",
       "      <th>1</th>\n",
       "      <td>26341</td>\n",
       "      <td>IN-2014-JR162107-41675</td>\n",
       "      <td>2014-02-05</td>\n",
       "      <td>2014-02-07</td>\n",
       "      <td>Second Class</td>\n",
       "      <td>JR-162107</td>\n",
       "      <td>Justin Ritter</td>\n",
       "      <td>Corporate</td>\n",
       "      <td>NaN</td>\n",
       "      <td>Wollongong</td>\n",
       "      <td>...</td>\n",
       "      <td>Furniture</td>\n",
       "      <td>Chairs</td>\n",
       "      <td>Novimex Executive Leather Armchair, Black</td>\n",
       "      <td>3709.395</td>\n",
       "      <td>9</td>\n",
       "      <td>0.1</td>\n",
       "      <td>-288.7650</td>\n",
       "      <td>923.630</td>\n",
       "      <td>Critical</td>\n",
       "      <td>2014</td>\n",
       "    </tr>\n",
       "    <tr>\n",
       "      <th>2</th>\n",
       "      <td>25330</td>\n",
       "      <td>IN-2014-CR127307-41929</td>\n",
       "      <td>2014-10-17</td>\n",
       "      <td>2014-10-18</td>\n",
       "      <td>First Class</td>\n",
       "      <td>CR-127307</td>\n",
       "      <td>Craig Reiter</td>\n",
       "      <td>Consumer</td>\n",
       "      <td>NaN</td>\n",
       "      <td>Brisbane</td>\n",
       "      <td>...</td>\n",
       "      <td>Technology</td>\n",
       "      <td>Phones</td>\n",
       "      <td>Nokia Smart Phone, with Caller ID</td>\n",
       "      <td>5175.171</td>\n",
       "      <td>9</td>\n",
       "      <td>0.1</td>\n",
       "      <td>919.9710</td>\n",
       "      <td>915.490</td>\n",
       "      <td>Medium</td>\n",
       "      <td>2014</td>\n",
       "    </tr>\n",
       "    <tr>\n",
       "      <th>3</th>\n",
       "      <td>13524</td>\n",
       "      <td>ES-2014-KM1637548-41667</td>\n",
       "      <td>2014-01-28</td>\n",
       "      <td>2014-01-30</td>\n",
       "      <td>First Class</td>\n",
       "      <td>KM-1637548</td>\n",
       "      <td>Katherine Murray</td>\n",
       "      <td>Home Office</td>\n",
       "      <td>NaN</td>\n",
       "      <td>Berlin</td>\n",
       "      <td>...</td>\n",
       "      <td>Technology</td>\n",
       "      <td>Phones</td>\n",
       "      <td>Motorola Smart Phone, Cordless</td>\n",
       "      <td>2892.510</td>\n",
       "      <td>5</td>\n",
       "      <td>0.1</td>\n",
       "      <td>-96.5400</td>\n",
       "      <td>910.160</td>\n",
       "      <td>Medium</td>\n",
       "      <td>2014</td>\n",
       "    </tr>\n",
       "    <tr>\n",
       "      <th>4</th>\n",
       "      <td>47221</td>\n",
       "      <td>SG-2014-RH9495111-41948</td>\n",
       "      <td>2014-11-05</td>\n",
       "      <td>2014-11-06</td>\n",
       "      <td>Same Day</td>\n",
       "      <td>RH-9495111</td>\n",
       "      <td>Rick Hansen</td>\n",
       "      <td>Consumer</td>\n",
       "      <td>NaN</td>\n",
       "      <td>Dakar</td>\n",
       "      <td>...</td>\n",
       "      <td>Technology</td>\n",
       "      <td>Copiers</td>\n",
       "      <td>Sharp Wireless Fax, High-Speed</td>\n",
       "      <td>2832.960</td>\n",
       "      <td>8</td>\n",
       "      <td>0.0</td>\n",
       "      <td>311.5200</td>\n",
       "      <td>903.040</td>\n",
       "      <td>Critical</td>\n",
       "      <td>2014</td>\n",
       "    </tr>\n",
       "    <tr>\n",
       "      <th>...</th>\n",
       "      <td>...</td>\n",
       "      <td>...</td>\n",
       "      <td>...</td>\n",
       "      <td>...</td>\n",
       "      <td>...</td>\n",
       "      <td>...</td>\n",
       "      <td>...</td>\n",
       "      <td>...</td>\n",
       "      <td>...</td>\n",
       "      <td>...</td>\n",
       "      <td>...</td>\n",
       "      <td>...</td>\n",
       "      <td>...</td>\n",
       "      <td>...</td>\n",
       "      <td>...</td>\n",
       "      <td>...</td>\n",
       "      <td>...</td>\n",
       "      <td>...</td>\n",
       "      <td>...</td>\n",
       "      <td>...</td>\n",
       "      <td>...</td>\n",
       "    </tr>\n",
       "    <tr>\n",
       "      <th>51285</th>\n",
       "      <td>29002</td>\n",
       "      <td>IN-2015-KE1642066-42174</td>\n",
       "      <td>2015-06-19</td>\n",
       "      <td>2015-06-19</td>\n",
       "      <td>Same Day</td>\n",
       "      <td>KE-1642066</td>\n",
       "      <td>Katrina Edelman</td>\n",
       "      <td>Corporate</td>\n",
       "      <td>NaN</td>\n",
       "      <td>Kure</td>\n",
       "      <td>...</td>\n",
       "      <td>Office Supplies</td>\n",
       "      <td>Fasteners</td>\n",
       "      <td>Advantus Thumb Tacks, 12 Pack</td>\n",
       "      <td>65.100</td>\n",
       "      <td>5</td>\n",
       "      <td>0.0</td>\n",
       "      <td>4.5000</td>\n",
       "      <td>1.010</td>\n",
       "      <td>Medium</td>\n",
       "      <td>2015</td>\n",
       "    </tr>\n",
       "    <tr>\n",
       "      <th>51286</th>\n",
       "      <td>34337</td>\n",
       "      <td>US-2014-ZD21925140-41765</td>\n",
       "      <td>2014-05-06</td>\n",
       "      <td>2014-05-10</td>\n",
       "      <td>Standard Class</td>\n",
       "      <td>ZD-219251408</td>\n",
       "      <td>Zuschuss Donatelli</td>\n",
       "      <td>Consumer</td>\n",
       "      <td>37421.0</td>\n",
       "      <td>Chattanooga</td>\n",
       "      <td>...</td>\n",
       "      <td>Furniture</td>\n",
       "      <td>Furnishings</td>\n",
       "      <td>Eldon Image Series Desk Accessories, Burgundy</td>\n",
       "      <td>16.720</td>\n",
       "      <td>5</td>\n",
       "      <td>0.2</td>\n",
       "      <td>3.3440</td>\n",
       "      <td>1.930</td>\n",
       "      <td>High</td>\n",
       "      <td>2014</td>\n",
       "    </tr>\n",
       "    <tr>\n",
       "      <th>51287</th>\n",
       "      <td>31315</td>\n",
       "      <td>CA-2012-ZD21925140-41147</td>\n",
       "      <td>2012-08-26</td>\n",
       "      <td>2012-08-31</td>\n",
       "      <td>Second Class</td>\n",
       "      <td>ZD-219251404</td>\n",
       "      <td>Zuschuss Donatelli</td>\n",
       "      <td>Consumer</td>\n",
       "      <td>94109.0</td>\n",
       "      <td>San Francisco</td>\n",
       "      <td>...</td>\n",
       "      <td>Office Supplies</td>\n",
       "      <td>Art</td>\n",
       "      <td>Newell 341</td>\n",
       "      <td>8.560</td>\n",
       "      <td>2</td>\n",
       "      <td>0.0</td>\n",
       "      <td>2.4824</td>\n",
       "      <td>1.580</td>\n",
       "      <td>High</td>\n",
       "      <td>2012</td>\n",
       "    </tr>\n",
       "    <tr>\n",
       "      <th>51288</th>\n",
       "      <td>9596</td>\n",
       "      <td>MX-2013-RB1979518-41322</td>\n",
       "      <td>2013-02-17</td>\n",
       "      <td>2013-02-21</td>\n",
       "      <td>Standard Class</td>\n",
       "      <td>RB-1979518</td>\n",
       "      <td>Ross Baird</td>\n",
       "      <td>Home Office</td>\n",
       "      <td>NaN</td>\n",
       "      <td>Valinhos</td>\n",
       "      <td>...</td>\n",
       "      <td>Office Supplies</td>\n",
       "      <td>Binders</td>\n",
       "      <td>Acco Index Tab, Economy</td>\n",
       "      <td>13.440</td>\n",
       "      <td>2</td>\n",
       "      <td>0.0</td>\n",
       "      <td>2.4000</td>\n",
       "      <td>1.003</td>\n",
       "      <td>Medium</td>\n",
       "      <td>2013</td>\n",
       "    </tr>\n",
       "    <tr>\n",
       "      <th>51289</th>\n",
       "      <td>6147</td>\n",
       "      <td>MX-2013-MC1810093-41416</td>\n",
       "      <td>2013-05-22</td>\n",
       "      <td>2013-05-26</td>\n",
       "      <td>Second Class</td>\n",
       "      <td>MC-1810093</td>\n",
       "      <td>Mick Crebagga</td>\n",
       "      <td>Consumer</td>\n",
       "      <td>NaN</td>\n",
       "      <td>Tipitapa</td>\n",
       "      <td>...</td>\n",
       "      <td>Office Supplies</td>\n",
       "      <td>Paper</td>\n",
       "      <td>Eaton Computer Printout Paper, 8.5 x 11</td>\n",
       "      <td>61.380</td>\n",
       "      <td>3</td>\n",
       "      <td>0.0</td>\n",
       "      <td>1.8000</td>\n",
       "      <td>1.002</td>\n",
       "      <td>High</td>\n",
       "      <td>2013</td>\n",
       "    </tr>\n",
       "  </tbody>\n",
       "</table>\n",
       "<p>51290 rows × 25 columns</p>\n",
       "</div>"
      ],
      "text/plain": [
       "       Row ID                  Order ID Order Date  Ship Date       Ship Mode  \\\n",
       "0       40098  CA-2014-AB10015140-41954 2014-11-11 2014-11-13     First Class   \n",
       "1       26341    IN-2014-JR162107-41675 2014-02-05 2014-02-07    Second Class   \n",
       "2       25330    IN-2014-CR127307-41929 2014-10-17 2014-10-18     First Class   \n",
       "3       13524   ES-2014-KM1637548-41667 2014-01-28 2014-01-30     First Class   \n",
       "4       47221   SG-2014-RH9495111-41948 2014-11-05 2014-11-06        Same Day   \n",
       "...       ...                       ...        ...        ...             ...   \n",
       "51285   29002   IN-2015-KE1642066-42174 2015-06-19 2015-06-19        Same Day   \n",
       "51286   34337  US-2014-ZD21925140-41765 2014-05-06 2014-05-10  Standard Class   \n",
       "51287   31315  CA-2012-ZD21925140-41147 2012-08-26 2012-08-31    Second Class   \n",
       "51288    9596   MX-2013-RB1979518-41322 2013-02-17 2013-02-21  Standard Class   \n",
       "51289    6147   MX-2013-MC1810093-41416 2013-05-22 2013-05-26    Second Class   \n",
       "\n",
       "        Customer ID       Customer Name      Segment  Postal Code  \\\n",
       "0      AB-100151402       Aaron Bergman     Consumer      73120.0   \n",
       "1         JR-162107       Justin Ritter    Corporate          NaN   \n",
       "2         CR-127307        Craig Reiter     Consumer          NaN   \n",
       "3        KM-1637548    Katherine Murray  Home Office          NaN   \n",
       "4        RH-9495111         Rick Hansen     Consumer          NaN   \n",
       "...             ...                 ...          ...          ...   \n",
       "51285    KE-1642066     Katrina Edelman    Corporate          NaN   \n",
       "51286  ZD-219251408  Zuschuss Donatelli     Consumer      37421.0   \n",
       "51287  ZD-219251404  Zuschuss Donatelli     Consumer      94109.0   \n",
       "51288    RB-1979518          Ross Baird  Home Office          NaN   \n",
       "51289    MC-1810093       Mick Crebagga     Consumer          NaN   \n",
       "\n",
       "                City  ...         Category Sub-Category  \\\n",
       "0      Oklahoma City  ...       Technology       Phones   \n",
       "1         Wollongong  ...        Furniture       Chairs   \n",
       "2           Brisbane  ...       Technology       Phones   \n",
       "3             Berlin  ...       Technology       Phones   \n",
       "4              Dakar  ...       Technology      Copiers   \n",
       "...              ...  ...              ...          ...   \n",
       "51285           Kure  ...  Office Supplies    Fasteners   \n",
       "51286    Chattanooga  ...        Furniture  Furnishings   \n",
       "51287  San Francisco  ...  Office Supplies          Art   \n",
       "51288       Valinhos  ...  Office Supplies      Binders   \n",
       "51289       Tipitapa  ...  Office Supplies        Paper   \n",
       "\n",
       "                                        Product Name     Sales Quantity  \\\n",
       "0                                   Samsung Convoy 3   221.980        2   \n",
       "1          Novimex Executive Leather Armchair, Black  3709.395        9   \n",
       "2                  Nokia Smart Phone, with Caller ID  5175.171        9   \n",
       "3                     Motorola Smart Phone, Cordless  2892.510        5   \n",
       "4                     Sharp Wireless Fax, High-Speed  2832.960        8   \n",
       "...                                              ...       ...      ...   \n",
       "51285                  Advantus Thumb Tacks, 12 Pack    65.100        5   \n",
       "51286  Eldon Image Series Desk Accessories, Burgundy    16.720        5   \n",
       "51287                                     Newell 341     8.560        2   \n",
       "51288                        Acco Index Tab, Economy    13.440        2   \n",
       "51289        Eaton Computer Printout Paper, 8.5 x 11    61.380        3   \n",
       "\n",
       "      Discount    Profit Shipping Cost  Order Priority  Year  \n",
       "0          0.0   62.1544        40.770            High  2014  \n",
       "1          0.1 -288.7650       923.630        Critical  2014  \n",
       "2          0.1  919.9710       915.490          Medium  2014  \n",
       "3          0.1  -96.5400       910.160          Medium  2014  \n",
       "4          0.0  311.5200       903.040        Critical  2014  \n",
       "...        ...       ...           ...             ...   ...  \n",
       "51285      0.0    4.5000         1.010          Medium  2015  \n",
       "51286      0.2    3.3440         1.930            High  2014  \n",
       "51287      0.0    2.4824         1.580            High  2012  \n",
       "51288      0.0    2.4000         1.003          Medium  2013  \n",
       "51289      0.0    1.8000         1.002            High  2013  \n",
       "\n",
       "[51290 rows x 25 columns]"
      ]
     },
     "execution_count": 9,
     "metadata": {},
     "output_type": "execute_result"
    }
   ],
   "source": [
    "df1.loc[:, 'Year'] = df1['Order Date'].dt.year\n",
    "df1"
   ]
  },
  {
   "cell_type": "markdown",
   "metadata": {},
   "source": [
    "##### Step 2: Grouping sales by each year."
   ]
  },
  {
   "cell_type": "code",
   "execution_count": 10,
   "metadata": {},
   "outputs": [
    {
     "name": "stdout",
     "output_type": "stream",
     "text": [
      "Year\n",
      "2012    $2,259,450.90\n",
      "2013    $2,677,438.69\n",
      "2014    $3,405,746.45\n",
      "2015    $4,299,865.87\n",
      "Name: Sales, dtype: object\n"
     ]
    }
   ],
   "source": [
    "yearly_sales_sum= df1.groupby(\"Year\")[\"Sales\"].sum()\n",
    "\n",
    "#Formate the output with the dollar $ sign\n",
    "yearly_sales_sum_formatted = yearly_sales_sum.apply(lambda x: f\"${x:,.2f}\")\n",
    "\n",
    "print(yearly_sales_sum_formatted)"
   ]
  },
  {
   "cell_type": "markdown",
   "metadata": {},
   "source": [
    "### Q3: What is the total quantity sold for all orders? "
   ]
  },
  {
   "cell_type": "code",
   "execution_count": 11,
   "metadata": {},
   "outputs": [
    {
     "data": {
      "text/plain": [
       "178312"
      ]
     },
     "execution_count": 11,
     "metadata": {},
     "output_type": "execute_result"
    }
   ],
   "source": [
    "df1[\"Quantity\"].sum()"
   ]
  },
  {
   "cell_type": "markdown",
   "metadata": {},
   "source": [
    "### Q4: What is the total quantity sold for each year? "
   ]
  },
  {
   "cell_type": "code",
   "execution_count": 12,
   "metadata": {},
   "outputs": [
    {
     "data": {
      "text/plain": [
       "Year\n",
       "2012    31443\n",
       "2013    38111\n",
       "2014    48136\n",
       "2015    60622\n",
       "Name: Quantity, dtype: int64"
      ]
     },
     "execution_count": 12,
     "metadata": {},
     "output_type": "execute_result"
    }
   ],
   "source": [
    "yearly_quantity_sum= df1.groupby(\"Year\")[\"Quantity\"].sum()\n",
    "yearly_quantity_sum"
   ]
  },
  {
   "cell_type": "markdown",
   "metadata": {},
   "source": [
    "### Q5: What is the average number of delivery days for orders?"
   ]
  },
  {
   "cell_type": "markdown",
   "metadata": {},
   "source": [
    "##### Step 1: Create a new column that displays the order's day or time. "
   ]
  },
  {
   "cell_type": "code",
   "execution_count": 13,
   "metadata": {},
   "outputs": [],
   "source": [
    "df1.loc[:, 'Delivery Day'] = (df['Ship Date'] - df['Order Date']).dt.days"
   ]
  },
  {
   "cell_type": "code",
   "execution_count": 14,
   "metadata": {},
   "outputs": [
    {
     "data": {
      "text/plain": [
       "3.96937024761162"
      ]
     },
     "execution_count": 14,
     "metadata": {},
     "output_type": "execute_result"
    }
   ],
   "source": [
    "average_delivery_days= df1[\"Delivery Day\"].mean()\n",
    "average_delivery_days"
   ]
  },
  {
   "cell_type": "markdown",
   "metadata": {},
   "source": [
    "### Q6: How many orders were returned? "
   ]
  },
  {
   "cell_type": "markdown",
   "metadata": {},
   "source": [
    "##### Step 1: Import return data (new sheet).  "
   ]
  },
  {
   "cell_type": "code",
   "execution_count": 15,
   "metadata": {},
   "outputs": [
    {
     "data": {
      "text/html": [
       "<div>\n",
       "<style scoped>\n",
       "    .dataframe tbody tr th:only-of-type {\n",
       "        vertical-align: middle;\n",
       "    }\n",
       "\n",
       "    .dataframe tbody tr th {\n",
       "        vertical-align: top;\n",
       "    }\n",
       "\n",
       "    .dataframe thead th {\n",
       "        text-align: right;\n",
       "    }\n",
       "</style>\n",
       "<table border=\"1\" class=\"dataframe\">\n",
       "  <thead>\n",
       "    <tr style=\"text-align: right;\">\n",
       "      <th></th>\n",
       "      <th>Returned</th>\n",
       "      <th>Order ID</th>\n",
       "      <th>Region</th>\n",
       "    </tr>\n",
       "  </thead>\n",
       "  <tbody>\n",
       "    <tr>\n",
       "      <th>0</th>\n",
       "      <td>Yes</td>\n",
       "      <td>CA-2012-SA20830140-41210</td>\n",
       "      <td>Central US</td>\n",
       "    </tr>\n",
       "    <tr>\n",
       "      <th>1</th>\n",
       "      <td>Yes</td>\n",
       "      <td>IN-2012-PB19210127-41259</td>\n",
       "      <td>Eastern Asia</td>\n",
       "    </tr>\n",
       "    <tr>\n",
       "      <th>2</th>\n",
       "      <td>Yes</td>\n",
       "      <td>CA-2012-SC20095140-41174</td>\n",
       "      <td>Central US</td>\n",
       "    </tr>\n",
       "    <tr>\n",
       "      <th>3</th>\n",
       "      <td>Yes</td>\n",
       "      <td>IN-2015-JH158207-42140</td>\n",
       "      <td>Oceania</td>\n",
       "    </tr>\n",
       "    <tr>\n",
       "      <th>4</th>\n",
       "      <td>Yes</td>\n",
       "      <td>IN-2014-LC168857-41747</td>\n",
       "      <td>Oceania</td>\n",
       "    </tr>\n",
       "    <tr>\n",
       "      <th>...</th>\n",
       "      <td>...</td>\n",
       "      <td>...</td>\n",
       "      <td>...</td>\n",
       "    </tr>\n",
       "    <tr>\n",
       "      <th>1074</th>\n",
       "      <td>Yes</td>\n",
       "      <td>IN-2014-DA1345058-41769</td>\n",
       "      <td>Southern Asia</td>\n",
       "    </tr>\n",
       "    <tr>\n",
       "      <th>1075</th>\n",
       "      <td>Yes</td>\n",
       "      <td>US-2013-HG14845140-41530</td>\n",
       "      <td>Eastern US</td>\n",
       "    </tr>\n",
       "    <tr>\n",
       "      <th>1076</th>\n",
       "      <td>Yes</td>\n",
       "      <td>US-2013-SJ2021582-41543</td>\n",
       "      <td>Central America</td>\n",
       "    </tr>\n",
       "    <tr>\n",
       "      <th>1077</th>\n",
       "      <td>Yes</td>\n",
       "      <td>CA-2015-EB13870140-42269</td>\n",
       "      <td>Eastern US</td>\n",
       "    </tr>\n",
       "    <tr>\n",
       "      <th>1078</th>\n",
       "      <td>Yes</td>\n",
       "      <td>EG-2014-PM894038-41846</td>\n",
       "      <td>North Africa</td>\n",
       "    </tr>\n",
       "  </tbody>\n",
       "</table>\n",
       "<p>1079 rows × 3 columns</p>\n",
       "</div>"
      ],
      "text/plain": [
       "     Returned                  Order ID           Region\n",
       "0         Yes  CA-2012-SA20830140-41210       Central US\n",
       "1         Yes  IN-2012-PB19210127-41259     Eastern Asia\n",
       "2         Yes  CA-2012-SC20095140-41174       Central US\n",
       "3         Yes    IN-2015-JH158207-42140          Oceania\n",
       "4         Yes    IN-2014-LC168857-41747          Oceania\n",
       "...       ...                       ...              ...\n",
       "1074      Yes   IN-2014-DA1345058-41769    Southern Asia\n",
       "1075      Yes  US-2013-HG14845140-41530       Eastern US\n",
       "1076      Yes   US-2013-SJ2021582-41543  Central America\n",
       "1077      Yes  CA-2015-EB13870140-42269       Eastern US\n",
       "1078      Yes    EG-2014-PM894038-41846     North Africa\n",
       "\n",
       "[1079 rows x 3 columns]"
      ]
     },
     "execution_count": 15,
     "metadata": {},
     "output_type": "execute_result"
    }
   ],
   "source": [
    "df_return = pd.read_excel (pwd + \"/global_superstore_2016.xlsx\", sheet_name= \"Returns\")\n",
    "df_return"
   ]
  },
  {
   "cell_type": "code",
   "execution_count": 16,
   "metadata": {},
   "outputs": [
    {
     "name": "stdout",
     "output_type": "stream",
     "text": [
      "0       True\n",
      "1       True\n",
      "2       True\n",
      "3       True\n",
      "4       True\n",
      "        ... \n",
      "1074    True\n",
      "1075    True\n",
      "1076    True\n",
      "1077    True\n",
      "1078    True\n",
      "Name: Returned, Length: 1079, dtype: bool\n"
     ]
    }
   ],
   "source": [
    "print (df_return['Returned']== \"Yes\")"
   ]
  },
  {
   "cell_type": "markdown",
   "metadata": {},
   "source": [
    "##### Step 2: Merged data before determining the total returns."
   ]
  },
  {
   "cell_type": "code",
   "execution_count": 17,
   "metadata": {},
   "outputs": [
    {
     "name": "stdout",
     "output_type": "stream",
     "text": [
      "Original dataset:  51290\n",
      "Merged dataset:  51290\n"
     ]
    },
    {
     "data": {
      "text/html": [
       "<div>\n",
       "<style scoped>\n",
       "    .dataframe tbody tr th:only-of-type {\n",
       "        vertical-align: middle;\n",
       "    }\n",
       "\n",
       "    .dataframe tbody tr th {\n",
       "        vertical-align: top;\n",
       "    }\n",
       "\n",
       "    .dataframe thead th {\n",
       "        text-align: right;\n",
       "    }\n",
       "</style>\n",
       "<table border=\"1\" class=\"dataframe\">\n",
       "  <thead>\n",
       "    <tr style=\"text-align: right;\">\n",
       "      <th></th>\n",
       "      <th>Row ID</th>\n",
       "      <th>Order ID</th>\n",
       "      <th>Order Date</th>\n",
       "      <th>Ship Date</th>\n",
       "      <th>Ship Mode</th>\n",
       "      <th>Customer ID</th>\n",
       "      <th>Customer Name</th>\n",
       "      <th>Segment</th>\n",
       "      <th>Postal Code</th>\n",
       "      <th>City</th>\n",
       "      <th>...</th>\n",
       "      <th>Sales</th>\n",
       "      <th>Quantity</th>\n",
       "      <th>Discount</th>\n",
       "      <th>Profit</th>\n",
       "      <th>Shipping Cost</th>\n",
       "      <th>Order Priority</th>\n",
       "      <th>Year</th>\n",
       "      <th>Delivery Day</th>\n",
       "      <th>Returned</th>\n",
       "      <th>Region_y</th>\n",
       "    </tr>\n",
       "  </thead>\n",
       "  <tbody>\n",
       "    <tr>\n",
       "      <th>0</th>\n",
       "      <td>40098</td>\n",
       "      <td>CA-2014-AB10015140-41954</td>\n",
       "      <td>2014-11-11</td>\n",
       "      <td>2014-11-13</td>\n",
       "      <td>First Class</td>\n",
       "      <td>AB-100151402</td>\n",
       "      <td>Aaron Bergman</td>\n",
       "      <td>Consumer</td>\n",
       "      <td>73120.0</td>\n",
       "      <td>Oklahoma City</td>\n",
       "      <td>...</td>\n",
       "      <td>221.980</td>\n",
       "      <td>2</td>\n",
       "      <td>0.0</td>\n",
       "      <td>62.1544</td>\n",
       "      <td>40.770</td>\n",
       "      <td>High</td>\n",
       "      <td>2014</td>\n",
       "      <td>2</td>\n",
       "      <td>NaN</td>\n",
       "      <td>NaN</td>\n",
       "    </tr>\n",
       "    <tr>\n",
       "      <th>1</th>\n",
       "      <td>26341</td>\n",
       "      <td>IN-2014-JR162107-41675</td>\n",
       "      <td>2014-02-05</td>\n",
       "      <td>2014-02-07</td>\n",
       "      <td>Second Class</td>\n",
       "      <td>JR-162107</td>\n",
       "      <td>Justin Ritter</td>\n",
       "      <td>Corporate</td>\n",
       "      <td>NaN</td>\n",
       "      <td>Wollongong</td>\n",
       "      <td>...</td>\n",
       "      <td>3709.395</td>\n",
       "      <td>9</td>\n",
       "      <td>0.1</td>\n",
       "      <td>-288.7650</td>\n",
       "      <td>923.630</td>\n",
       "      <td>Critical</td>\n",
       "      <td>2014</td>\n",
       "      <td>2</td>\n",
       "      <td>NaN</td>\n",
       "      <td>NaN</td>\n",
       "    </tr>\n",
       "    <tr>\n",
       "      <th>2</th>\n",
       "      <td>25330</td>\n",
       "      <td>IN-2014-CR127307-41929</td>\n",
       "      <td>2014-10-17</td>\n",
       "      <td>2014-10-18</td>\n",
       "      <td>First Class</td>\n",
       "      <td>CR-127307</td>\n",
       "      <td>Craig Reiter</td>\n",
       "      <td>Consumer</td>\n",
       "      <td>NaN</td>\n",
       "      <td>Brisbane</td>\n",
       "      <td>...</td>\n",
       "      <td>5175.171</td>\n",
       "      <td>9</td>\n",
       "      <td>0.1</td>\n",
       "      <td>919.9710</td>\n",
       "      <td>915.490</td>\n",
       "      <td>Medium</td>\n",
       "      <td>2014</td>\n",
       "      <td>1</td>\n",
       "      <td>NaN</td>\n",
       "      <td>NaN</td>\n",
       "    </tr>\n",
       "    <tr>\n",
       "      <th>3</th>\n",
       "      <td>13524</td>\n",
       "      <td>ES-2014-KM1637548-41667</td>\n",
       "      <td>2014-01-28</td>\n",
       "      <td>2014-01-30</td>\n",
       "      <td>First Class</td>\n",
       "      <td>KM-1637548</td>\n",
       "      <td>Katherine Murray</td>\n",
       "      <td>Home Office</td>\n",
       "      <td>NaN</td>\n",
       "      <td>Berlin</td>\n",
       "      <td>...</td>\n",
       "      <td>2892.510</td>\n",
       "      <td>5</td>\n",
       "      <td>0.1</td>\n",
       "      <td>-96.5400</td>\n",
       "      <td>910.160</td>\n",
       "      <td>Medium</td>\n",
       "      <td>2014</td>\n",
       "      <td>2</td>\n",
       "      <td>NaN</td>\n",
       "      <td>NaN</td>\n",
       "    </tr>\n",
       "    <tr>\n",
       "      <th>4</th>\n",
       "      <td>47221</td>\n",
       "      <td>SG-2014-RH9495111-41948</td>\n",
       "      <td>2014-11-05</td>\n",
       "      <td>2014-11-06</td>\n",
       "      <td>Same Day</td>\n",
       "      <td>RH-9495111</td>\n",
       "      <td>Rick Hansen</td>\n",
       "      <td>Consumer</td>\n",
       "      <td>NaN</td>\n",
       "      <td>Dakar</td>\n",
       "      <td>...</td>\n",
       "      <td>2832.960</td>\n",
       "      <td>8</td>\n",
       "      <td>0.0</td>\n",
       "      <td>311.5200</td>\n",
       "      <td>903.040</td>\n",
       "      <td>Critical</td>\n",
       "      <td>2014</td>\n",
       "      <td>1</td>\n",
       "      <td>NaN</td>\n",
       "      <td>NaN</td>\n",
       "    </tr>\n",
       "    <tr>\n",
       "      <th>...</th>\n",
       "      <td>...</td>\n",
       "      <td>...</td>\n",
       "      <td>...</td>\n",
       "      <td>...</td>\n",
       "      <td>...</td>\n",
       "      <td>...</td>\n",
       "      <td>...</td>\n",
       "      <td>...</td>\n",
       "      <td>...</td>\n",
       "      <td>...</td>\n",
       "      <td>...</td>\n",
       "      <td>...</td>\n",
       "      <td>...</td>\n",
       "      <td>...</td>\n",
       "      <td>...</td>\n",
       "      <td>...</td>\n",
       "      <td>...</td>\n",
       "      <td>...</td>\n",
       "      <td>...</td>\n",
       "      <td>...</td>\n",
       "      <td>...</td>\n",
       "    </tr>\n",
       "    <tr>\n",
       "      <th>51285</th>\n",
       "      <td>29002</td>\n",
       "      <td>IN-2015-KE1642066-42174</td>\n",
       "      <td>2015-06-19</td>\n",
       "      <td>2015-06-19</td>\n",
       "      <td>Same Day</td>\n",
       "      <td>KE-1642066</td>\n",
       "      <td>Katrina Edelman</td>\n",
       "      <td>Corporate</td>\n",
       "      <td>NaN</td>\n",
       "      <td>Kure</td>\n",
       "      <td>...</td>\n",
       "      <td>65.100</td>\n",
       "      <td>5</td>\n",
       "      <td>0.0</td>\n",
       "      <td>4.5000</td>\n",
       "      <td>1.010</td>\n",
       "      <td>Medium</td>\n",
       "      <td>2015</td>\n",
       "      <td>0</td>\n",
       "      <td>NaN</td>\n",
       "      <td>NaN</td>\n",
       "    </tr>\n",
       "    <tr>\n",
       "      <th>51286</th>\n",
       "      <td>34337</td>\n",
       "      <td>US-2014-ZD21925140-41765</td>\n",
       "      <td>2014-05-06</td>\n",
       "      <td>2014-05-10</td>\n",
       "      <td>Standard Class</td>\n",
       "      <td>ZD-219251408</td>\n",
       "      <td>Zuschuss Donatelli</td>\n",
       "      <td>Consumer</td>\n",
       "      <td>37421.0</td>\n",
       "      <td>Chattanooga</td>\n",
       "      <td>...</td>\n",
       "      <td>16.720</td>\n",
       "      <td>5</td>\n",
       "      <td>0.2</td>\n",
       "      <td>3.3440</td>\n",
       "      <td>1.930</td>\n",
       "      <td>High</td>\n",
       "      <td>2014</td>\n",
       "      <td>4</td>\n",
       "      <td>NaN</td>\n",
       "      <td>NaN</td>\n",
       "    </tr>\n",
       "    <tr>\n",
       "      <th>51287</th>\n",
       "      <td>31315</td>\n",
       "      <td>CA-2012-ZD21925140-41147</td>\n",
       "      <td>2012-08-26</td>\n",
       "      <td>2012-08-31</td>\n",
       "      <td>Second Class</td>\n",
       "      <td>ZD-219251404</td>\n",
       "      <td>Zuschuss Donatelli</td>\n",
       "      <td>Consumer</td>\n",
       "      <td>94109.0</td>\n",
       "      <td>San Francisco</td>\n",
       "      <td>...</td>\n",
       "      <td>8.560</td>\n",
       "      <td>2</td>\n",
       "      <td>0.0</td>\n",
       "      <td>2.4824</td>\n",
       "      <td>1.580</td>\n",
       "      <td>High</td>\n",
       "      <td>2012</td>\n",
       "      <td>5</td>\n",
       "      <td>NaN</td>\n",
       "      <td>NaN</td>\n",
       "    </tr>\n",
       "    <tr>\n",
       "      <th>51288</th>\n",
       "      <td>9596</td>\n",
       "      <td>MX-2013-RB1979518-41322</td>\n",
       "      <td>2013-02-17</td>\n",
       "      <td>2013-02-21</td>\n",
       "      <td>Standard Class</td>\n",
       "      <td>RB-1979518</td>\n",
       "      <td>Ross Baird</td>\n",
       "      <td>Home Office</td>\n",
       "      <td>NaN</td>\n",
       "      <td>Valinhos</td>\n",
       "      <td>...</td>\n",
       "      <td>13.440</td>\n",
       "      <td>2</td>\n",
       "      <td>0.0</td>\n",
       "      <td>2.4000</td>\n",
       "      <td>1.003</td>\n",
       "      <td>Medium</td>\n",
       "      <td>2013</td>\n",
       "      <td>4</td>\n",
       "      <td>NaN</td>\n",
       "      <td>NaN</td>\n",
       "    </tr>\n",
       "    <tr>\n",
       "      <th>51289</th>\n",
       "      <td>6147</td>\n",
       "      <td>MX-2013-MC1810093-41416</td>\n",
       "      <td>2013-05-22</td>\n",
       "      <td>2013-05-26</td>\n",
       "      <td>Second Class</td>\n",
       "      <td>MC-1810093</td>\n",
       "      <td>Mick Crebagga</td>\n",
       "      <td>Consumer</td>\n",
       "      <td>NaN</td>\n",
       "      <td>Tipitapa</td>\n",
       "      <td>...</td>\n",
       "      <td>61.380</td>\n",
       "      <td>3</td>\n",
       "      <td>0.0</td>\n",
       "      <td>1.8000</td>\n",
       "      <td>1.002</td>\n",
       "      <td>High</td>\n",
       "      <td>2013</td>\n",
       "      <td>4</td>\n",
       "      <td>NaN</td>\n",
       "      <td>NaN</td>\n",
       "    </tr>\n",
       "  </tbody>\n",
       "</table>\n",
       "<p>51290 rows × 28 columns</p>\n",
       "</div>"
      ],
      "text/plain": [
       "       Row ID                  Order ID Order Date  Ship Date       Ship Mode  \\\n",
       "0       40098  CA-2014-AB10015140-41954 2014-11-11 2014-11-13     First Class   \n",
       "1       26341    IN-2014-JR162107-41675 2014-02-05 2014-02-07    Second Class   \n",
       "2       25330    IN-2014-CR127307-41929 2014-10-17 2014-10-18     First Class   \n",
       "3       13524   ES-2014-KM1637548-41667 2014-01-28 2014-01-30     First Class   \n",
       "4       47221   SG-2014-RH9495111-41948 2014-11-05 2014-11-06        Same Day   \n",
       "...       ...                       ...        ...        ...             ...   \n",
       "51285   29002   IN-2015-KE1642066-42174 2015-06-19 2015-06-19        Same Day   \n",
       "51286   34337  US-2014-ZD21925140-41765 2014-05-06 2014-05-10  Standard Class   \n",
       "51287   31315  CA-2012-ZD21925140-41147 2012-08-26 2012-08-31    Second Class   \n",
       "51288    9596   MX-2013-RB1979518-41322 2013-02-17 2013-02-21  Standard Class   \n",
       "51289    6147   MX-2013-MC1810093-41416 2013-05-22 2013-05-26    Second Class   \n",
       "\n",
       "        Customer ID       Customer Name      Segment  Postal Code  \\\n",
       "0      AB-100151402       Aaron Bergman     Consumer      73120.0   \n",
       "1         JR-162107       Justin Ritter    Corporate          NaN   \n",
       "2         CR-127307        Craig Reiter     Consumer          NaN   \n",
       "3        KM-1637548    Katherine Murray  Home Office          NaN   \n",
       "4        RH-9495111         Rick Hansen     Consumer          NaN   \n",
       "...             ...                 ...          ...          ...   \n",
       "51285    KE-1642066     Katrina Edelman    Corporate          NaN   \n",
       "51286  ZD-219251408  Zuschuss Donatelli     Consumer      37421.0   \n",
       "51287  ZD-219251404  Zuschuss Donatelli     Consumer      94109.0   \n",
       "51288    RB-1979518          Ross Baird  Home Office          NaN   \n",
       "51289    MC-1810093       Mick Crebagga     Consumer          NaN   \n",
       "\n",
       "                City  ...     Sales Quantity Discount    Profit Shipping Cost  \\\n",
       "0      Oklahoma City  ...   221.980        2      0.0   62.1544        40.770   \n",
       "1         Wollongong  ...  3709.395        9      0.1 -288.7650       923.630   \n",
       "2           Brisbane  ...  5175.171        9      0.1  919.9710       915.490   \n",
       "3             Berlin  ...  2892.510        5      0.1  -96.5400       910.160   \n",
       "4              Dakar  ...  2832.960        8      0.0  311.5200       903.040   \n",
       "...              ...  ...       ...      ...      ...       ...           ...   \n",
       "51285           Kure  ...    65.100        5      0.0    4.5000         1.010   \n",
       "51286    Chattanooga  ...    16.720        5      0.2    3.3440         1.930   \n",
       "51287  San Francisco  ...     8.560        2      0.0    2.4824         1.580   \n",
       "51288       Valinhos  ...    13.440        2      0.0    2.4000         1.003   \n",
       "51289       Tipitapa  ...    61.380        3      0.0    1.8000         1.002   \n",
       "\n",
       "      Order Priority  Year Delivery Day  Returned  Region_y  \n",
       "0               High  2014            2       NaN       NaN  \n",
       "1           Critical  2014            2       NaN       NaN  \n",
       "2             Medium  2014            1       NaN       NaN  \n",
       "3             Medium  2014            2       NaN       NaN  \n",
       "4           Critical  2014            1       NaN       NaN  \n",
       "...              ...   ...          ...       ...       ...  \n",
       "51285         Medium  2015            0       NaN       NaN  \n",
       "51286           High  2014            4       NaN       NaN  \n",
       "51287           High  2012            5       NaN       NaN  \n",
       "51288         Medium  2013            4       NaN       NaN  \n",
       "51289           High  2013            4       NaN       NaN  \n",
       "\n",
       "[51290 rows x 28 columns]"
      ]
     },
     "execution_count": 17,
     "metadata": {},
     "output_type": "execute_result"
    }
   ],
   "source": [
    "df_merge = pd.merge(left=df1, right=df_return, how=\"left\", left_on= [\"Order ID\"], right_on= [\"Order ID\",])\n",
    "print (\"Original dataset: \", len (df1))\n",
    "print (\"Merged dataset: \", len (df_merge))\n",
    "df_merge"
   ]
  },
  {
   "cell_type": "code",
   "execution_count": 18,
   "metadata": {},
   "outputs": [],
   "source": [
    "return_orders_df = df_merge[df_merge['Returned']== \"Yes\"]"
   ]
  },
  {
   "cell_type": "code",
   "execution_count": 19,
   "metadata": {},
   "outputs": [
    {
     "name": "stdout",
     "output_type": "stream",
     "text": [
      "Total returned orders: 1079\n"
     ]
    }
   ],
   "source": [
    "distinct_count = return_orders_df ['Order ID'].nunique() # or return_orders = len(return_orders_df['Order ID'].unique())\n",
    "print(f\"Total returned orders: {distinct_count}\")  #print (\"Total returned orders: \", return_orders)\n"
   ]
  },
  {
   "cell_type": "markdown",
   "metadata": {},
   "source": [
    "### Q7: What is the total sales by market / each year? "
   ]
  },
  {
   "cell_type": "code",
   "execution_count": 20,
   "metadata": {},
   "outputs": [
    {
     "name": "stdout",
     "output_type": "stream",
     "text": [
      "Market\n",
      "Asia Pacific    4.042658e+06\n",
      "Europe          3.287336e+06\n",
      "USCA            2.364129e+06\n",
      "LATAM           2.164605e+06\n",
      "Africa          7.837732e+05\n",
      "Name: Sales, dtype: float64\n"
     ]
    }
   ],
   "source": [
    "market_sales= df_merge.groupby(\"Market\")[\"Sales\"].sum() \n",
    "sorted_market_sales= market_sales.sort_values (ascending= False)\n",
    "print (sorted_market_sales)"
   ]
  },
  {
   "cell_type": "code",
   "execution_count": 21,
   "metadata": {},
   "outputs": [
    {
     "data": {
      "text/plain": [
       "Market        Year\n",
       "Africa        2012    1.271873e+05\n",
       "              2013    1.444807e+05\n",
       "              2014    2.290688e+05\n",
       "              2015    2.830364e+05\n",
       "Asia Pacific  2012    7.136582e+05\n",
       "              2013    8.639840e+05\n",
       "              2014    1.092232e+06\n",
       "              2015    1.372784e+06\n",
       "Europe        2012    5.407506e+05\n",
       "              2013    7.176114e+05\n",
       "              2014    8.486702e+05\n",
       "              2015    1.180304e+06\n",
       "LATAM         2012    3.850982e+05\n",
       "              2013    4.647333e+05\n",
       "              2014    6.081408e+05\n",
       "              2015    7.066329e+05\n",
       "USCA          2012    4.927566e+05\n",
       "              2013    4.866293e+05\n",
       "              2014    6.276350e+05\n",
       "              2015    7.571081e+05\n",
       "Name: Sales, dtype: float64"
      ]
     },
     "execution_count": 21,
     "metadata": {},
     "output_type": "execute_result"
    }
   ],
   "source": [
    "df_merge.groupby(['Market', 'Year'])['Sales'].sum()"
   ]
  },
  {
   "cell_type": "markdown",
   "metadata": {},
   "source": [
    "##### Finding 6: We notice that all market tend to consistently increase in sales year over year. But, only the 'USCA' market had a decrease in sales between consecutive years (2012 to 2013)."
   ]
  },
  {
   "cell_type": "markdown",
   "metadata": {},
   "source": [
    "### Q8: What is the total sales by segment /each year ? "
   ]
  },
  {
   "cell_type": "code",
   "execution_count": 22,
   "metadata": {},
   "outputs": [
    {
     "name": "stdout",
     "output_type": "stream",
     "text": [
      "Segment\n",
      "Consumer       6.507949e+06\n",
      "Corporate      3.824698e+06\n",
      "Home Office    2.309855e+06\n",
      "Name: Sales, dtype: float64\n"
     ]
    }
   ],
   "source": [
    "segment_sales= df_merge.groupby('Segment')[\"Sales\"].sum()\n",
    "sorted_segment_sales= segment_sales.sort_values (ascending= False)\n",
    "print (sorted_segment_sales)"
   ]
  },
  {
   "cell_type": "code",
   "execution_count": 23,
   "metadata": {},
   "outputs": [
    {
     "data": {
      "text/plain": [
       "Segment      Year\n",
       "Consumer     2012    1.173671e+06\n",
       "             2013    1.463760e+06\n",
       "             2014    1.729255e+06\n",
       "             2015    2.141263e+06\n",
       "Corporate    2012    6.916626e+05\n",
       "             2013    7.744596e+05\n",
       "             2014    1.064973e+06\n",
       "             2015    1.293602e+06\n",
       "Home Office  2012    3.941170e+05\n",
       "             2013    4.392188e+05\n",
       "             2014    6.115177e+05\n",
       "             2015    8.650014e+05\n",
       "Name: Sales, dtype: float64"
      ]
     },
     "execution_count": 23,
     "metadata": {},
     "output_type": "execute_result"
    }
   ],
   "source": [
    "df_merge.groupby(['Segment', 'Year'])['Sales'].sum()"
   ]
  },
  {
   "cell_type": "markdown",
   "metadata": {},
   "source": [
    "##### Finding 8: We can note that the largest segment is 'Consumer,' followed by 'Corporate' and then 'Home Office.' The trend shows that all three segments consistently increased in sales each year."
   ]
  },
  {
   "cell_type": "markdown",
   "metadata": {},
   "source": [
    "### Q9: Who are the top 10 customers? "
   ]
  },
  {
   "cell_type": "code",
   "execution_count": 24,
   "metadata": {},
   "outputs": [
    {
     "data": {
      "image/png": "[encoded data removed]",
      "text/plain": [
       "<Figure size 1000x600 with 1 Axes>"
      ]
     },
     "metadata": {},
     "output_type": "display_data"
    }
   ],
   "source": [
    "customer_profit = df_merge.groupby('Customer Name')['Profit'].sum() #Group by Customer and sum the Profit\n",
    "top_customers = customer_profit.sort_values(ascending=False).head(10) #Sort the customers by Profit in descending order\n",
    "\n",
    "top_customers.plot(kind='bar', figsize=(10, 6), color='skyblue') #Plot the data as a vertical bar chart\n",
    "\n",
    "#Add title and labels\n",
    "plt.title('Top 10 Customers by Profit')\n",
    "plt.xlabel('Customer Name')\n",
    "plt.ylabel('Total Profit')\n",
    "plt.xticks(rotation=45, ha='right') \n",
    "\n",
    "# Ensure that only the plot is shown\n",
    "plt.tight_layout()  # Adjusts the plot to ensure everything fits without overlap\n",
    "plt.show()  # This ensures that only the plot is displayed"
   ]
  },
  {
   "cell_type": "markdown",
   "metadata": {},
   "source": [
    "##### Finding 9: The top customer who brings in the most profit to the company is Tamara Chand, followed by Raymond Buch, Sanjit Chand, and rounding out the top ten is Tom Ashbrook."
   ]
  },
  {
   "cell_type": "markdown",
   "metadata": {},
   "source": [
    "### Q10: What are the top 6 profit products? "
   ]
  },
  {
   "cell_type": "code",
   "execution_count": 25,
   "metadata": {},
   "outputs": [
    {
     "data": {
      "image/png": "[encoded data removed]",
      "text/plain": [
       "<Figure size 1000x600 with 1 Axes>"
      ]
     },
     "metadata": {},
     "output_type": "display_data"
    }
   ],
   "source": [
    "Product_profit = df_merge.groupby('Product Name')['Profit'].sum() #Group by product and sum the profit\n",
    "top_product = Product_profit.sort_values(ascending=False).head(6) #Sort the customers by profit in descending order\n",
    "\n",
    "top_product.plot(kind='barh',figsize=(10, 6), color='green') #Plot the data as a vertical bar chart\n",
    "\n",
    "#Add title and labels\n",
    "plt.title('Top 10 Products by profit')\n",
    "plt.xlabel('Profit')\n",
    "plt.ylabel('Product Name')\n",
    "\n",
    "# Ensure that only the plot is shown\n",
    "plt.tight_layout()  # Adjusts the plot to ensure everything fits without overlap\n",
    "plt.show()  # This ensures that only the plot is displayed"
   ]
  },
  {
   "cell_type": "markdown",
   "metadata": {},
   "source": [
    "##### Finding 10: The top-selling product by profit is the Canon imageCLASS, followed by the Cisco Smart, the Motorola Smart Phone, and rounding out the top sex is the Harbour Creations Armchair."
   ]
  },
  {
   "cell_type": "markdown",
   "metadata": {},
   "source": [
    "### Q11: What are the top 6 Loss product?  "
   ]
  },
  {
   "cell_type": "code",
   "execution_count": 26,
   "metadata": {},
   "outputs": [
    {
     "data": {
      "image/png": "[encoded data removed]",
      "text/plain": [
       "<Figure size 1000x600 with 1 Axes>"
      ]
     },
     "metadata": {},
     "output_type": "display_data"
    }
   ],
   "source": [
    "Product_loss = df_merge.groupby('Product Name')['Profit'].sum() #Group by product and sum the profit\n",
    "Top_loss_product = Product_loss.sort_values(ascending=True).head(6) #Sort the product by profit in ascending order\n",
    "\n",
    "Top_loss_product.plot(kind='barh',figsize=(10, 6), color='red') #Plot the data as a vertical bar chart\n",
    "\n",
    "#Add title and labels\n",
    "plt.title('Top 6 product by loss (negative profit)')\n",
    "plt.xlabel('Profit')\n",
    "plt.ylabel('Product Name')\n",
    "\n",
    "# Ensure that only the plot is shown\n",
    "plt.tight_layout()  # Adjusts the plot to ensure everything fits without overlap\n",
    "plt.show()  # This ensures that only the plot is displayed"
   ]
  },
  {
   "cell_type": "markdown",
   "metadata": {},
   "source": [
    "##### Finding 11: The top product by Loss or negative profit is the Cubify...Head Print, followed by Lexmark...Laser Printer, Motorola Smart Phone Cordless, and rounding out the top sex is the Bevis Computer Table."
   ]
  },
  {
   "cell_type": "markdown",
   "metadata": {},
   "source": [
    "## Descriptive analysis to understand the occurance of the patterns"
   ]
  },
  {
   "cell_type": "markdown",
   "metadata": {},
   "source": [
    "### Q12: Analyse shipping costs to understand if high shipping costs are associated with low or negative profits"
   ]
  },
  {
   "cell_type": "code",
   "execution_count": 32,
   "metadata": {},
   "outputs": [
    {
     "name": "stdout",
     "output_type": "stream",
     "text": [
      "Correlation between Profit and Shipping Cost: 0.3544232046040306\n",
      "                                                    Shipping Cost       Profit\n",
      "Product Name                                                                  \n",
      "Cubify CubeX 3D Printer Triple Head Print              674.820000 -3839.990400\n",
      "Cubify CubeX 3D Printer Double Head Print              227.196667 -2959.990133\n",
      "Cisco TelePresence System EX90 Videoconferencin...      24.286500 -1811.078400\n",
      "Lexmark MX611dhe Monochrome Laser Printer              328.602500 -1147.493250\n",
      "Zebra GK420t Direct Thermal/Thermal Transfer Pr...     199.500000  -938.280000\n",
      "Barricks Conference Table, Rectangular                 157.420000  -829.322500\n",
      "Bevis Round Table, Adjustable Height                    62.209800  -729.978800\n",
      "Barricks Round Table, Adjustable Height                115.586667  -626.891667\n",
      "Barricks Round Table, Rectangular                      211.170000  -623.940000\n",
      "Chromcraft Round Table, Fully Assembled                 78.092000  -607.693000\n"
     ]
    },
    {
     "data": {
      "image/png": "[encoded data removed]",
      "text/plain": [
       "<Figure size 1000x400 with 1 Axes>"
      ]
     },
     "metadata": {},
     "output_type": "display_data"
    }
   ],
   "source": [
    "# Correlation between profit and shipping cost\n",
    "correlation_shipping_profit = df_merge['Profit'].corr(df_merge['Shipping Cost'])\n",
    "print(f\"Correlation between Profit and Shipping Cost: {correlation_shipping_profit}\")\n",
    "\n",
    "# Group by product and calculate average shipping cost and profit\n",
    "shipping_cost_analysis = df_merge.groupby('Product Name')[['Shipping Cost', 'Profit']].mean().sort_values(by='Profit')\n",
    "print(shipping_cost_analysis.head(10))  # Show the top 10 products with lowest profits\n",
    "\n",
    "# Plot Shipping Cost vs. Profit\n",
    "df_merge.plot.scatter(x='Shipping Cost', y='Profit', title='Shipping Cost vs Profit', figsize=(10, 4))\n",
    "plt.tight_layout()\n",
    "plt.show()"
   ]
  },
  {
   "cell_type": "markdown",
   "metadata": {},
   "source": [
    "##### Finding 12 - A correlation of 0.354 suggests a Low/moderate positive relationship between shipping cost and profit. This means that, generally, as shipping costs increase, profits also tend to increase, but the relationship is not strong. As the shipping cost analysis shows, there are notable exceptions where high shipping costs are associated with significant losses.\n",
    "#### - The scatter plot shows that many products are clustered around the profit line of 0. This means that many products have profits close to zero, which is concerning because it indicates they are barely breaking even or just covering their costs."
   ]
  },
  {
   "cell_type": "markdown",
   "metadata": {},
   "source": [
    "##### Solution: - Reviewing the products: Products with high shipping costs and negative profits should be reviewed for pricing strategies, discount policies, or potential inefficiencies in the supply chain that could be impacting profitability. - Focus on Low-Profit Products: The large number of products with profits close to zero indicates a need to reassess these products' viability in the product line, possibly by optimizing shipping, renegotiating supplier costs, or adjusting pricing strategies."
   ]
  },
  {
   "cell_type": "markdown",
   "metadata": {},
   "source": [
    "### Q13: What impact or correlation Does Discounts have on profitability? "
   ]
  },
  {
   "cell_type": "code",
   "execution_count": 28,
   "metadata": {},
   "outputs": [
    {
     "name": "stdout",
     "output_type": "stream",
     "text": [
      "Correlation between Profit and Discount: -0.31649017182727085\n",
      "                                                    Discount       Profit\n",
      "Product Name                                                             \n",
      "Cubify CubeX 3D Printer Triple Head Print           0.500000 -3839.990400\n",
      "Cubify CubeX 3D Printer Double Head Print           0.533333 -2959.990133\n",
      "Cisco TelePresence System EX90 Videoconferencin...  0.500000 -1811.078400\n",
      "Lexmark MX611dhe Monochrome Laser Printer           0.400000 -1147.493250\n",
      "Zebra GK420t Direct Thermal/Thermal Transfer Pr...  0.700000  -938.280000\n",
      "Barricks Conference Table, Rectangular              0.350000  -829.322500\n",
      "Bevis Round Table, Adjustable Height                0.460000  -729.978800\n",
      "Barricks Round Table, Adjustable Height             0.416667  -626.891667\n",
      "Barricks Round Table, Rectangular                   0.350000  -623.940000\n",
      "Chromcraft Round Table, Fully Assembled             0.433333  -607.693000\n"
     ]
    },
    {
     "data": {
      "image/png": "[encoded data removed]",
      "text/plain": [
       "<Figure size 1000x400 with 1 Axes>"
      ]
     },
     "metadata": {},
     "output_type": "display_data"
    }
   ],
   "source": [
    "correlation_discount_profit = df_merge['Profit'].corr(df_merge['Discount'])\n",
    "print(f\"Correlation between Profit and Discount: {correlation_discount_profit}\")\n",
    "\n",
    "discount_analysis = df_merge.groupby('Product Name')[['Discount', 'Profit']].mean().sort_values(by='Profit')\n",
    "print(discount_analysis.head(10)) \n",
    "\n",
    "df_merge.plot.scatter(x='Discount', y='Profit', title='Discount vs Profit', figsize=(10, 4))\n",
    "plt.show()"
   ]
  },
  {
   "cell_type": "markdown",
   "metadata": {},
   "source": [
    "##### Finding 13: The correlation between Profit and Discount is -0.3165, which indicates a low-moderate negative relationship between the two variables. This means that as discounts increase, profits tend to decrease, and vice versa. This suggests that excessive discounting could harm overall profitability. While discounts can drive sales volume, they need to be carefully managed to ensure that they don't erode profits. The company may need to evaluate whether the increase in sales volume from discounts is enough to compensate for the reduced profit margins."
   ]
  },
  {
   "cell_type": "markdown",
   "metadata": {},
   "source": [
    "### Q14: What impact does delivery day have on customer satisfaction and profitability? "
   ]
  },
  {
   "cell_type": "code",
   "execution_count": 29,
   "metadata": {},
   "outputs": [
    {
     "name": "stdout",
     "output_type": "stream",
     "text": [
      "Correlation between Profit and Delivery Day: 0.0017447852467344534\n",
      "                                                    Delivery Day       Profit\n",
      "Product Name                                                                 \n",
      "Cubify CubeX 3D Printer Triple Head Print               0.000000 -3839.990400\n",
      "Cubify CubeX 3D Printer Double Head Print               4.000000 -2959.990133\n",
      "Cisco TelePresence System EX90 Videoconferencin...      5.000000 -1811.078400\n",
      "Lexmark MX611dhe Monochrome Laser Printer               3.750000 -1147.493250\n",
      "Zebra GK420t Direct Thermal/Thermal Transfer Pr...      1.000000  -938.280000\n",
      "Barricks Conference Table, Rectangular                  4.333333  -829.322500\n",
      "Bevis Round Table, Adjustable Height                    3.800000  -729.978800\n",
      "Barricks Round Table, Adjustable Height                 3.666667  -626.891667\n",
      "Barricks Round Table, Rectangular                       1.000000  -623.940000\n",
      "Chromcraft Round Table, Fully Assembled                 4.333333  -607.693000\n"
     ]
    },
    {
     "data": {
      "image/png": "[encoded data removed]",
      "text/plain": [
       "<Figure size 1000x400 with 1 Axes>"
      ]
     },
     "metadata": {},
     "output_type": "display_data"
    }
   ],
   "source": [
    "correlation_delivery_profit = df_merge['Profit'].corr(df_merge['Delivery Day'])\n",
    "print(f\"Correlation between Profit and Delivery Day: {correlation_delivery_profit}\")\n",
    "\n",
    "delivery_analysis = df_merge.groupby('Product Name')[['Delivery Day', 'Profit']].mean().sort_values(by='Profit')\n",
    "print(delivery_analysis.head(10)) \n",
    "\n",
    "df_merge.plot.scatter(x='Delivery Day', y='Profit', title='Delivery Day vs Profit', figsize=(10, 4))\n",
    "plt.show()"
   ]
  },
  {
   "cell_type": "markdown",
   "metadata": {},
   "source": [
    "##### Finding 14: The correlation coefficient of 0.0017 suggests that Delivery Day has little to no impact on Profit in a linear sense (Weak Relationship).It can also be noticed that products with high negative profits show a range of delivery days, but no strong relationship is evident between delivery days and profitability. Since delivery days do not explain profit variations well, it is better to consider other factors. "
   ]
  },
  {
   "cell_type": "markdown",
   "metadata": {},
   "source": [
    "### Q15: What impact does the order priority have on profitability? "
   ]
  },
  {
   "cell_type": "code",
   "execution_count": 30,
   "metadata": {},
   "outputs": [
    {
     "name": "stdout",
     "output_type": "stream",
     "text": [
      "Order Priority\n",
      "Low         24.197958\n",
      "High        27.119122\n",
      "Medium      29.361729\n",
      "Critical    31.593124\n",
      "Name: Profit, dtype: float64\n"
     ]
    },
    {
     "data": {
      "image/png": "[encoded data removed]",
      "text/plain": [
       "<Figure size 1000x600 with 1 Axes>"
      ]
     },
     "metadata": {},
     "output_type": "display_data"
    }
   ],
   "source": [
    "priority_analysis = df_merge.groupby('Order Priority')['Profit'].mean().sort_values()\n",
    "print(priority_analysis)\n",
    "\n",
    "priority_analysis.plot(kind='bar', title='Order Priority vs Profit', figsize=(10, 6), color='purple')\n",
    "plt.ylabel('Average Profit')\n",
    "plt.show()"
   ]
  },
  {
   "cell_type": "markdown",
   "metadata": {},
   "source": [
    "##### Finding 15: The outputed information shoes that as the Order Priority increases from Low to Critical, the average profit also increases. This means that, on average, orders with higher priority tend to have higher profits. Since higher prioriteted orders contribute to the company’s profitability, understanding that higher-priority orders are more profitable can help focus efforts on optimizing these orders to maximize overall profitability (i.e optimizing customer relationship, resource allocation, product and sales strategies)."
   ]
  },
  {
   "cell_type": "markdown",
   "metadata": {},
   "source": [
    "### Q16: What correlation do segment and market have on profitability? "
   ]
  },
  {
   "cell_type": "code",
   "execution_count": 31,
   "metadata": {},
   "outputs": [
    {
     "name": "stdout",
     "output_type": "stream",
     "text": [
      "Correlation between Segment and Profit: 0.0027970402666889506\n",
      "Correlation between Market and Profit: 0.0028472700468975044\n"
     ]
    }
   ],
   "source": [
    "# Convert 'Segment' and 'Market' to numerical values\n",
    "label_encoder_segment = LabelEncoder()\n",
    "df_merge['Segment_encoded'] = label_encoder_segment.fit_transform(df_merge['Segment'])\n",
    "\n",
    "label_encoder_market = LabelEncoder()\n",
    "df_merge['Market_encoded'] = label_encoder_market.fit_transform(df_merge['Market'])\n",
    "\n",
    "# Calculate correlations\n",
    "correlation_segment_profit = df_merge['Segment_encoded'].corr(df_merge['Profit'])\n",
    "correlation_market_profit = df_merge['Market_encoded'].corr(df_merge['Profit'])\n",
    "\n",
    "print(f\"Correlation between Segment and Profit: {correlation_segment_profit}\")\n",
    "print(f\"Correlation between Market and Profit: {correlation_market_profit}\")\n"
   ]
  },
  {
   "cell_type": "markdown",
   "metadata": {},
   "source": [
    "##### Finding 16: Both correlations are very close to 0, indicating a very weak relationship between the categorical variables ('Segment' and 'Market') and profit, this means that neither 'Segment' nor 'Market' has a significant impact on profit based on the linear correlation analysis.."
   ]
  },
  {
   "cell_type": "markdown",
   "metadata": {},
   "source": [
    "### Conclusion: After analyzing the correlations, it’s clear that most factors have a weak relationship with profit. However, some aspects warrant further investigation: shipping costs have a moderate positive correlation with profit, while higher discounts tend to reduce profits. Understanding these relationships more deeply, along with how sales vary across markets and segments, can help the company optimize processes and enhance profitability."
   ]
  }
 ],
 "metadata": {
  "kernelspec": {
   "display_name": "Python 3",
   "language": "python",
   "name": "python3"
  },
  "language_info": {
   "codemirror_mode": {
    "name": "ipython",
    "version": 3
   },
   "file_extension": ".py",
   "mimetype": "text/x-python",
   "name": "python",
   "nbconvert_exporter": "python",
   "pygments_lexer": "ipython3",
   "version": "3.11.4"
  }
 },
 "nbformat": 4,
 "nbformat_minor": 2
}
